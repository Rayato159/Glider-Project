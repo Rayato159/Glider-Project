{
 "cells": [
  {
   "cell_type": "code",
   "execution_count": 1,
   "metadata": {},
   "outputs": [],
   "source": [
    "#Basic Library\n",
    "import numpy as np\n",
    "import pandas as pd"
   ]
  },
  {
   "cell_type": "code",
   "execution_count": 2,
   "metadata": {},
   "outputs": [],
   "source": [
    "#For data visualize\n",
    "import matplotlib.pyplot as plt"
   ]
  },
  {
   "cell_type": "code",
   "execution_count": 3,
   "metadata": {},
   "outputs": [],
   "source": [
    "#For machine learning\n",
    "#model = tree.DecisionTreeClassifier()\n",
    "from sklearn import tree\n",
    "from sklearn.model_selection import train_test_split"
   ]
  },
  {
   "cell_type": "code",
   "execution_count": 4,
   "metadata": {
    "scrolled": true
   },
   "outputs": [
    {
     "data": {
      "text/html": [
       "<div>\n",
       "<style scoped>\n",
       "    .dataframe tbody tr th:only-of-type {\n",
       "        vertical-align: middle;\n",
       "    }\n",
       "\n",
       "    .dataframe tbody tr th {\n",
       "        vertical-align: top;\n",
       "    }\n",
       "\n",
       "    .dataframe thead th {\n",
       "        text-align: right;\n",
       "    }\n",
       "</style>\n",
       "<table border=\"1\" class=\"dataframe\">\n",
       "  <thead>\n",
       "    <tr style=\"text-align: right;\">\n",
       "      <th></th>\n",
       "      <th>Airfoils</th>\n",
       "      <th>AoT_Cl0.5</th>\n",
       "      <th>Cd</th>\n",
       "      <th>Cl/Cd</th>\n",
       "    </tr>\n",
       "  </thead>\n",
       "  <tbody>\n",
       "    <tr>\n",
       "      <th>0</th>\n",
       "      <td>NACA 63A010</td>\n",
       "      <td>4.1</td>\n",
       "      <td>0.01236</td>\n",
       "      <td>40.453074</td>\n",
       "    </tr>\n",
       "    <tr>\n",
       "      <th>1</th>\n",
       "      <td>NACA 63012A</td>\n",
       "      <td>4.0</td>\n",
       "      <td>0.01244</td>\n",
       "      <td>40.192926</td>\n",
       "    </tr>\n",
       "    <tr>\n",
       "      <th>2</th>\n",
       "      <td>NACA 63-015A</td>\n",
       "      <td>3.9</td>\n",
       "      <td>0.01364</td>\n",
       "      <td>36.656892</td>\n",
       "    </tr>\n",
       "    <tr>\n",
       "      <th>3</th>\n",
       "      <td>NACA 63-210</td>\n",
       "      <td>2.4</td>\n",
       "      <td>0.01117</td>\n",
       "      <td>44.762757</td>\n",
       "    </tr>\n",
       "    <tr>\n",
       "      <th>4</th>\n",
       "      <td>NACA 63-212</td>\n",
       "      <td>2.3</td>\n",
       "      <td>0.01127</td>\n",
       "      <td>44.365572</td>\n",
       "    </tr>\n",
       "  </tbody>\n",
       "</table>\n",
       "</div>"
      ],
      "text/plain": [
       "       Airfoils  AoT_Cl0.5       Cd      Cl/Cd\n",
       "0   NACA 63A010        4.1  0.01236  40.453074\n",
       "1   NACA 63012A        4.0  0.01244  40.192926\n",
       "2  NACA 63-015A        3.9  0.01364  36.656892\n",
       "3   NACA 63-210        2.4  0.01117  44.762757\n",
       "4   NACA 63-212        2.3  0.01127  44.365572"
      ]
     },
     "execution_count": 4,
     "metadata": {},
     "output_type": "execute_result"
    }
   ],
   "source": [
    "#Read File\n",
    "df = pd.read_csv(\"Airfoil (NACA).csv\")\n",
    "df.head()"
   ]
  },
  {
   "cell_type": "code",
   "execution_count": 5,
   "metadata": {},
   "outputs": [
    {
     "data": {
      "text/plain": [
       "120"
      ]
     },
     "execution_count": 5,
     "metadata": {},
     "output_type": "execute_result"
    }
   ],
   "source": [
    "#Data size\n",
    "len(df)"
   ]
  },
  {
   "cell_type": "code",
   "execution_count": 6,
   "metadata": {},
   "outputs": [
    {
     "data": {
      "text/plain": [
       "['Airfoils', 'AoT_Cl0.5', 'Cd', 'Cl/Cd']"
      ]
     },
     "execution_count": 6,
     "metadata": {},
     "output_type": "execute_result"
    }
   ],
   "source": [
    "labels = df.columns.tolist()\n",
    "labels"
   ]
  },
  {
   "cell_type": "code",
   "execution_count": 7,
   "metadata": {},
   "outputs": [],
   "source": [
    "#Define the coordinates of data for find relation.\n",
    "X = df[[\"AoT_Cl0.5\", \"Cl/Cd\"]]\n",
    "y = df[\"Airfoils\"]"
   ]
  },
  {
   "cell_type": "code",
   "execution_count": 8,
   "metadata": {},
   "outputs": [],
   "source": [
    "#Creating model\n",
    "model = tree.DecisionTreeClassifier()\n",
    "model = model.fit(X, y)"
   ]
  },
  {
   "cell_type": "code",
   "execution_count": 9,
   "metadata": {},
   "outputs": [
    {
     "name": "stdout",
     "output_type": "stream",
     "text": [
      "49.85044865\n"
     ]
    }
   ],
   "source": [
    "#We need to know the max of Cl/Cd in our data to predict what airfoil are highest Cl/Cd and have AOT and Cd reach to 0.\n",
    "print(df[\"Cl/Cd\"].max())"
   ]
  },
  {
   "cell_type": "code",
   "execution_count": 10,
   "metadata": {},
   "outputs": [
    {
     "name": "stdout",
     "output_type": "stream",
     "text": [
      "Airfoils     NACA 64-206\n",
      "AoT_Cl0.5            2.6\n",
      "Cd               0.01003\n",
      "Cl/Cd            49.8504\n",
      "Name: 33, dtype: object\n"
     ]
    }
   ],
   "source": [
    "for index, row in df.iterrows():\n",
    "    if(row[\"Cl/Cd\"] == df[\"Cl/Cd\"].max()):\n",
    "        print(row)"
   ]
  },
  {
   "cell_type": "code",
   "execution_count": 11,
   "metadata": {},
   "outputs": [
    {
     "data": {
      "text/plain": [
       "array(['NACA6409 9%'], dtype=object)"
      ]
     },
     "execution_count": 11,
     "metadata": {},
     "output_type": "execute_result"
    }
   ],
   "source": [
    "#Predict data\n",
    "Airfoil = model.predict([[df[\"AoT_Cl0.5\"].min(), df[\"Cl/Cd\"].max()]])\n",
    "Airfoil"
   ]
  },
  {
   "cell_type": "code",
   "execution_count": 12,
   "metadata": {},
   "outputs": [
    {
     "data": {
      "text/plain": [
       "array(['NACA 0008'], dtype=object)"
      ]
     },
     "execution_count": 12,
     "metadata": {},
     "output_type": "execute_result"
    }
   ],
   "source": [
    "FinAndRudder = model.predict([[df[\"AoT_Cl0.5\"].max(), df[\"Cl/Cd\"].max()]])\n",
    "FinAndRudder"
   ]
  },
  {
   "cell_type": "code",
   "execution_count": 13,
   "metadata": {},
   "outputs": [
    {
     "name": "stdout",
     "output_type": "stream",
     "text": [
      "Airfoils     NACA6409 9%\n",
      "AoT_Cl0.5           -2.3\n",
      "Cd               0.01027\n",
      "Cl/Cd            48.6855\n",
      "Name: 86, dtype: object\n"
     ]
    }
   ],
   "source": [
    "for index, row in df.iterrows():\n",
    "    if(row[\"Airfoils\"] == Airfoil[0]):\n",
    "        print(row)"
   ]
  },
  {
   "cell_type": "code",
   "execution_count": 14,
   "metadata": {},
   "outputs": [
    {
     "name": "stdout",
     "output_type": "stream",
     "text": [
      "Airfoils     NACA 0008\n",
      "AoT_Cl0.5          4.3\n",
      "Cd             0.01037\n",
      "Cl/Cd           48.216\n",
      "Name: 88, dtype: object\n"
     ]
    }
   ],
   "source": [
    "for index, row in df.iterrows():\n",
    "    if(row[\"Airfoils\"] == FinAndRudder[0]):\n",
    "        print(row)"
   ]
  },
  {
   "cell_type": "code",
   "execution_count": 15,
   "metadata": {},
   "outputs": [
    {
     "data": {
      "text/plain": [
       "0.9833333333333333"
      ]
     },
     "execution_count": 15,
     "metadata": {},
     "output_type": "execute_result"
    }
   ],
   "source": [
    "#Score by train data.\n",
    "model.score(X, y)"
   ]
  }
 ],
 "metadata": {
  "kernelspec": {
   "display_name": "Python 3",
   "language": "python",
   "name": "python3"
  },
  "language_info": {
   "codemirror_mode": {
    "name": "ipython",
    "version": 3
   },
   "file_extension": ".py",
   "mimetype": "text/x-python",
   "name": "python",
   "nbconvert_exporter": "python",
   "pygments_lexer": "ipython3",
   "version": "3.7.6"
  }
 },
 "nbformat": 4,
 "nbformat_minor": 4
}
